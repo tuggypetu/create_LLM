{
 "cells": [
  {
   "cell_type": "code",
   "execution_count": 29,
   "metadata": {},
   "outputs": [
    {
     "name": "stdout",
     "output_type": "stream",
     "text": [
      "cpu\n"
     ]
    }
   ],
   "source": [
    "import torch\n",
    "import torch.nn as nn\n",
    "import torch.nn.functional as F\n",
    "device = 'cuda' if torch.cuda.is_available() else 'cpu'\n",
    "print(device)\n",
    "block_size = 8\n",
    "batch_size = 4\n",
    "max_iters = 1000\n",
    "# eval_interval = 2500\n",
    "learning_rate = 3e-4\n",
    "eval_iters = 250\n",
    "dropout = 0.2"
   ]
  },
  {
   "cell_type": "code",
   "execution_count": 30,
   "metadata": {},
   "outputs": [
    {
     "name": "stdout",
     "output_type": "stream",
     "text": [
      "  DOROTHY AND THE WIZARD IN OZ\n",
      "\n",
      "  BY\n",
      "\n",
      "  L. FRANK BAUM\n",
      "\n",
      "  AUTHOR OF THE WIZARD OF OZ, THE LAND OF OZ, OZMA OF OZ, ETC.\n",
      "\n",
      "  ILLUSTRATED BY JOHN R. NEILL\n",
      "\n",
      "  BOOKS OF WONDER WILLIAM MORROW & CO., INC. NEW\n"
     ]
    }
   ],
   "source": [
    "with open(\"wizard_of_oz.txt\", 'r', encoding='utf-8') as f:\n",
    "    text = f.read()\n",
    "print(text[:200])"
   ]
  },
  {
   "cell_type": "code",
   "execution_count": 31,
   "metadata": {},
   "outputs": [
    {
     "name": "stdout",
     "output_type": "stream",
     "text": [
      "['\\n', ' ', '!', '\"', '&', \"'\", '(', ')', '*', ',', '-', '.', '0', '1', '2', '3', '4', '5', '6', '7', '8', '9', ':', ';', '?', 'A', 'B', 'C', 'D', 'E', 'F', 'G', 'H', 'I', 'J', 'K', 'L', 'M', 'N', 'O', 'P', 'Q', 'R', 'S', 'T', 'U', 'V', 'W', 'X', 'Y', 'Z', '[', ']', '_', 'a', 'b', 'c', 'd', 'e', 'f', 'g', 'h', 'i', 'j', 'k', 'l', 'm', 'n', 'o', 'p', 'q', 'r', 's', 't', 'u', 'v', 'w', 'x', 'y', 'z', '\\ufeff']\n",
      "81\n"
     ]
    }
   ],
   "source": [
    "chars = sorted(set(text))\n",
    "vocab_size = len(chars)\n",
    "print(chars)\n",
    "print(vocab_size)"
   ]
  },
  {
   "cell_type": "code",
   "execution_count": 32,
   "metadata": {},
   "outputs": [],
   "source": [
    "string_to_int = {ch:i for i,ch in enumerate(chars)}\n",
    "int_to_string = {i:ch for i,ch in enumerate(chars)}\n",
    "encode = lambda w: [string_to_int[c] for c in w]\n",
    "decode = lambda n: ''.join([int_to_string[i] for i in n])"
   ]
  },
  {
   "cell_type": "code",
   "execution_count": 33,
   "metadata": {},
   "outputs": [
    {
     "name": "stdout",
     "output_type": "stream",
     "text": [
      "tensor([80,  1,  1, 28, 39, 42, 39, 44, 32, 49,  1, 25, 38, 28,  1, 44, 32, 29,\n",
      "         1, 47, 33, 50, 25, 42, 28,  1, 33, 38,  1, 39, 50,  0,  0,  1,  1, 26,\n",
      "        49,  0,  0,  1,  1, 36, 11,  1, 30, 42, 25, 38, 35,  1, 26, 25, 45, 37,\n",
      "         0,  0,  1,  1, 25, 45, 44, 32, 39, 42,  1, 39, 30,  1, 44, 32, 29,  1,\n",
      "        47, 33, 50, 25, 42, 28,  1, 39, 30,  1, 39, 50,  9,  1, 44, 32, 29,  1,\n",
      "        36, 25, 38, 28,  1, 39, 30,  1, 39, 50])\n"
     ]
    }
   ],
   "source": [
    "data = torch.tensor(encode(text), dtype=torch.long)\n",
    "print(data[:100])"
   ]
  },
  {
   "cell_type": "code",
   "execution_count": 34,
   "metadata": {},
   "outputs": [],
   "source": [
    "n = int(0.8*len(data))\n",
    "train_data = data[:n]\n",
    "val_data = data[n:]"
   ]
  },
  {
   "cell_type": "code",
   "execution_count": 35,
   "metadata": {},
   "outputs": [
    {
     "name": "stdout",
     "output_type": "stream",
     "text": [
      "tensor([80,  1,  1, 28, 39, 42, 39, 44])\n",
      "tensor([ 1,  1, 28, 39, 42, 39, 44, 32])\n"
     ]
    }
   ],
   "source": [
    "x = train_data[:block_size]\n",
    "y = train_data[1:block_size+1]\n",
    "print(x)\n",
    "print(y)"
   ]
  },
  {
   "cell_type": "code",
   "execution_count": 36,
   "metadata": {},
   "outputs": [
    {
     "name": "stdout",
     "output_type": "stream",
     "text": [
      "When input is tensor([80]), target is 1.\n",
      "When input is tensor([80,  1]), target is 1.\n",
      "When input is tensor([80,  1,  1]), target is 28.\n",
      "When input is tensor([80,  1,  1, 28]), target is 39.\n",
      "When input is tensor([80,  1,  1, 28, 39]), target is 42.\n",
      "When input is tensor([80,  1,  1, 28, 39, 42]), target is 39.\n",
      "When input is tensor([80,  1,  1, 28, 39, 42, 39]), target is 44.\n",
      "When input is tensor([80,  1,  1, 28, 39, 42, 39, 44]), target is 32.\n"
     ]
    }
   ],
   "source": [
    "for t in range(block_size):\n",
    "    context = x[:t+1]\n",
    "    target = y[t]\n",
    "    print(f\"When input is {context}, target is {target}.\")"
   ]
  },
  {
   "cell_type": "code",
   "execution_count": 37,
   "metadata": {},
   "outputs": [
    {
     "name": "stdout",
     "output_type": "stream",
     "text": [
      "inputs torch.Size([4, 8]) tensor([[59,  1, 57, 58, 58, 69,  1, 60],\n",
      "        [37, 78,  1, 72, 68, 71, 56, 58],\n",
      "        [ 3,  1, 71, 58, 66, 54, 71, 64],\n",
      "        [52,  0,  0,  0,  0,  0, 27, 32]])\n",
      "targets torch.Size([4, 8]) tensor([[ 1, 57, 58, 58, 69,  1, 60, 71],\n",
      "        [78,  1, 72, 68, 71, 56, 58, 71],\n",
      "        [ 1, 71, 58, 66, 54, 71, 64, 58],\n",
      "        [ 0,  0,  0,  0,  0, 27, 32, 25]])\n"
     ]
    }
   ],
   "source": [
    "n = int(0.8*len(data))\n",
    "train_data = data[:n]\n",
    "val_data = data[n:]\n",
    "\n",
    "def get_batch(split):\n",
    "    data = train_data if split == 'train' else val_data\n",
    "    ix = torch.randint(len(data) - block_size, (batch_size,))\n",
    "    x = torch.stack([data[i:i+block_size] for i in ix])\n",
    "    y = torch.stack([data[i+1:i+block_size+1] for i in ix])\n",
    "    x, y = x.to(device), y.to(device)\n",
    "    return x, y\n",
    "\n",
    "x, y = get_batch('train')\n",
    "print('inputs', x.shape, x)\n",
    "print('targets', y.shape, y)"
   ]
  },
  {
   "cell_type": "code",
   "execution_count": 38,
   "metadata": {},
   "outputs": [],
   "source": [
    "class BigramLanguageModel(nn.Module):\n",
    "    def __init__(self, vocab_size):\n",
    "        super().__init__()\n",
    "        self.token_embedding_table = nn.Embedding(vocab_size, vocab_size)\n",
    "\n",
    "    def forward(self, index, targets=None):\n",
    "        logits = self.token_embedding_table(index)\n",
    "        if targets is None:\n",
    "            loss = None\n",
    "        else:\n",
    "            B, T, C = logits.shape\n",
    "            logits = logits.view(B*T, C)\n",
    "            targets = targets.view(B*T)\n",
    "            loss = F.cross_entropy(logits, targets)\n",
    "\n",
    "        return logits, loss\n",
    "    \n",
    "    def generate(self, index, max_new_tokens):\n",
    "        # index is (B, T) array of indices in the current context\n",
    "        for _ in range(max_new_tokens):\n",
    "            # get the predictions\n",
    "            logits, loss = self.forward(index)\n",
    "            # focus only on the last time step\n",
    "            logits = logits[:, -1, :]   # becomes (B, C)\n",
    "            # apply softmax to get probabilities\n",
    "            probs = F.softmax(logits, dim=-1)   # (B, C)\n",
    "            # sample from the distribution\n",
    "            index_next = torch.multinomial(probs, num_samples=1)    # (B, 1)\n",
    "            # append sampled index to running sequence\n",
    "            index = torch.cat((index, index_next), dim=1)   # (B, T+1)\n",
    "        return index\n"
   ]
  },
  {
   "cell_type": "code",
   "execution_count": 39,
   "metadata": {},
   "outputs": [
    {
     "name": "stdout",
     "output_type": "stream",
     "text": [
      "\n",
      ";H&AU7(MPOVx8JIA_:b&SIzVWe__qH]VDi.ZAJ\n",
      "coq xktkKuDQd)09W!lSVr,*xcfKu2p\"m[rYG0rGrMcE nHjJ\n",
      "16\"WHZS'rRSVp1G,9UB'Vi7KD;cp(.uw[KKv[\"v\n",
      "OG59yAp(qH59zE:?e).MK7HdEMtKo23dR5S!WB2Vwf.z5!lGuV\n",
      "Hr'I5cEx9;W J] 0ro a9?SVxyyNTe?j:qX\n",
      "YGd9kkkB(3WuQ(Mq.﻿g﻿I.8dC];:0bah*76w﻿3Kd0_KcoM!!1:deit)F\"5!eBzmn1G5Kd&KxznRe__G4br6[CVxF\".6,aQ3V'lQEkZF&?M\"m-T3G1_rbhgtoNC)YNz\n",
      "U2BlSVURUn\n",
      "fp\"&j6'ZYbc71]X47p)snRREPkTq.uOBiAm'JPKR1*xOzGb7yj2rGxsq7ypmBwjVUQkyru1JNBrHe&U4WRV-Bc5z56&\n",
      "fDn]y_fKumpLt2i3HQRW&VmCYmUHPv\n",
      "co[sdPUoZK*(Vdn9YmRVYMH\n"
     ]
    }
   ],
   "source": [
    "model = BigramLanguageModel(vocab_size=vocab_size)\n",
    "m = model.to(device=device)\n",
    "\n",
    "context = torch.zeros((1, 1), dtype=torch.long, device=device)\n",
    "generated_chars = decode(m.generate(context, max_new_tokens=500)[0].tolist())\n",
    "print(generated_chars)"
   ]
  },
  {
   "cell_type": "code",
   "execution_count": 40,
   "metadata": {},
   "outputs": [],
   "source": [
    "@torch.no_grad()\n",
    "def estimate_loss():\n",
    "    out = {}\n",
    "    model.eval()\n",
    "    for split in ['train', 'val']:\n",
    "        losses = torch.zeros(eval_iters)\n",
    "        for k in range(eval_iters):\n",
    "            X, Y = get_batch(split)\n",
    "            logits, loss = model(X, Y)\n",
    "            losses[k] = loss.item()\n",
    "        out[split] = loss.mean()\n",
    "    model.train()\n",
    "    return out"
   ]
  },
  {
   "cell_type": "code",
   "execution_count": 45,
   "metadata": {},
   "outputs": [
    {
     "name": "stdout",
     "output_type": "stream",
     "text": [
      "step: 0, train loss: 4.1289, val loss: 4.0558\n",
      "step: 250, train loss: 4.1138, val loss: 3.8984\n",
      "step: 500, train loss: 3.9184, val loss: 3.9118\n",
      "step: 750, train loss: 4.1709, val loss: 4.0283\n",
      "3.604804039001465\n"
     ]
    }
   ],
   "source": [
    "# create a PyTorch optimizer\n",
    "optimizer = torch.optim.AdamW(model.parameters(), lr=learning_rate)\n",
    "\n",
    "for iter in range(max_iters):\n",
    "    if iter % eval_iters == 0:\n",
    "        losses = estimate_loss()\n",
    "        print(f\"step: {iter}, train loss: {losses['train']:.4f}, val loss: {losses['val']:.4f}\")\n",
    "\n",
    "    # sample a batch of data\n",
    "    xb, yb = get_batch('train')\n",
    "\n",
    "    # evaluate the loss\n",
    "    logits, loss = model.forward(xb, yb)\n",
    "    optimizer.zero_grad(set_to_none=True)\n",
    "    loss.backward()\n",
    "    optimizer.step()\n",
    "print(loss.item())"
   ]
  },
  {
   "cell_type": "code",
   "execution_count": 42,
   "metadata": {},
   "outputs": [
    {
     "name": "stdout",
     "output_type": "stream",
     "text": [
      "\n",
      ";G8!;'Kc!?0j&VT_toq:]A8﻿u]-LqvC!\n",
      "w.xy!.S0UdkQ2UVP2od2﻿'cx*xHF:u2YErGZ1gAu2YnforMa,9?b(\n",
      "M.\"\n",
      "WMp19[3EZv*!wiy5iU!9O4y_b;WoW_:fLgkBxye?:O1(NW[C2[L'FWs?P\"428XDsq.2UrByMa XN cV(bI&IYD6*ZlbYO)Ugaj?ge'YOvJt2eBwnS!QE5e'7IGm_O3﻿X7lSa0,-aABYPSVC)jd8KAC_:!kktNYx?L]3QQQ2iN)T],yr0K5E]lmXFRw﻿By\"PQiyivmgjH6i;BnI.Lb,RRp10brC-tQ r0Sx\n",
      ",ZF3!]7'[﻿B3byiX7a1 1DuFIP(kBYOVYO,j_TkkB',*?Lb0pL.KdngYOVA?;C1dnec[GE]],KhzYOV2YBw&.WBwfLr4y;u8'mnu1G:Qw.o1FnFFy Lyje_8JEaRE'7Gw5zn.rGrk&*B5qq&.qQG[yypah0b72w.﻿\n",
      "co(﻿\"TGYtYx*(!4(XZ*7\n"
     ]
    }
   ],
   "source": [
    "context = torch.zeros((1, 1), dtype=torch.long, device=device)\n",
    "generated_chars = decode(m.generate(context, max_new_tokens=500)[0].tolist())\n",
    "print(generated_chars)"
   ]
  },
  {
   "cell_type": "code",
   "execution_count": null,
   "metadata": {},
   "outputs": [],
   "source": []
  }
 ],
 "metadata": {
  "kernelspec": {
   "display_name": "py3.10",
   "language": "python",
   "name": "py3.10"
  },
  "language_info": {
   "codemirror_mode": {
    "name": "ipython",
    "version": 3
   },
   "file_extension": ".py",
   "mimetype": "text/x-python",
   "name": "python",
   "nbconvert_exporter": "python",
   "pygments_lexer": "ipython3",
   "version": "3.7.7"
  }
 },
 "nbformat": 4,
 "nbformat_minor": 4
}
